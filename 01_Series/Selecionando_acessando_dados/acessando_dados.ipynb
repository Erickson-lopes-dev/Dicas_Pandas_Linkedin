{
 "cells": [
  {
   "cell_type": "code",
   "execution_count": 38,
   "id": "ac72a500",
   "metadata": {},
   "outputs": [],
   "source": [
    "import pandas as pd\n",
    "import numpy as np\n",
    "import string"
   ]
  },
  {
   "cell_type": "markdown",
   "id": "29df4330",
   "metadata": {},
   "source": [
    "# Acessando dados do Series"
   ]
  },
  {
   "cell_type": "code",
   "execution_count": 135,
   "id": "1a362ad7",
   "metadata": {
    "scrolled": true
   },
   "outputs": [
    {
     "data": {
      "text/plain": [
       "0    a\n",
       "1    b\n",
       "2    c\n",
       "3    d\n",
       "4    e\n",
       "5    f\n",
       "6    g\n",
       "dtype: object"
      ]
     },
     "execution_count": 135,
     "metadata": {},
     "output_type": "execute_result"
    }
   ],
   "source": [
    "# obtendo lista com o alfabeto\n",
    "letras = ['a', 'b', 'c', 'd', 'e', 'f', 'g']\n",
    "\n",
    "s = pd.Series(letras)\n",
    "s"
   ]
  },
  {
   "cell_type": "code",
   "execution_count": 126,
   "id": "9107a387",
   "metadata": {},
   "outputs": [
    {
     "data": {
      "text/plain": [
       "'d'"
      ]
     },
     "execution_count": 126,
     "metadata": {},
     "output_type": "execute_result"
    }
   ],
   "source": [
    "# Recuperando primeiro elemento\n",
    "s[0]"
   ]
  },
  {
   "cell_type": "code",
   "execution_count": 127,
   "id": "f6ac685d",
   "metadata": {},
   "outputs": [
    {
     "data": {
      "text/plain": [
       "0    a\n",
       "1    b\n",
       "2    c\n",
       "dtype: object"
      ]
     },
     "execution_count": 127,
     "metadata": {},
     "output_type": "execute_result"
    }
   ],
   "source": [
    "# Exibindo os tres primeiros (do 0 até 3, por conta da expressão :3 )\n",
    "s[:3]"
   ]
  },
  {
   "cell_type": "code",
   "execution_count": 80,
   "id": "0aee3708",
   "metadata": {},
   "outputs": [
    {
     "data": {
      "text/plain": [
       "3    d\n",
       "4    e\n",
       "5    f\n",
       "6    g\n",
       "dtype: object"
      ]
     },
     "execution_count": 80,
     "metadata": {},
     "output_type": "execute_result"
    }
   ],
   "source": [
    "# Recupera os dados apartir do terceiro index\n",
    "s[3:]"
   ]
  },
  {
   "cell_type": "code",
   "execution_count": 78,
   "id": "814e62e3",
   "metadata": {},
   "outputs": [
    {
     "data": {
      "text/plain": [
       "4    e\n",
       "5    f\n",
       "6    g\n",
       "dtype: object"
      ]
     },
     "execution_count": 78,
     "metadata": {},
     "output_type": "execute_result"
    }
   ],
   "source": [
    "# Exibindo os tres ultimos(Contagem reversa por conta do - )\n",
    "s[-3:]"
   ]
  },
  {
   "cell_type": "code",
   "execution_count": 87,
   "id": "6100c892",
   "metadata": {},
   "outputs": [
    {
     "data": {
      "text/plain": [
       "3    d\n",
       "4    e\n",
       "dtype: object"
      ]
     },
     "execution_count": 87,
     "metadata": {},
     "output_type": "execute_result"
    }
   ],
   "source": [
    "# Cortando Serie do indice 3 ao 5(-1) \n",
    "s[3:5]"
   ]
  },
  {
   "cell_type": "code",
   "execution_count": 89,
   "id": "aeb35998",
   "metadata": {},
   "outputs": [
    {
     "data": {
      "text/plain": [
       "1    b\n",
       "5    f\n",
       "dtype: object"
      ]
     },
     "execution_count": 89,
     "metadata": {},
     "output_type": "execute_result"
    }
   ],
   "source": [
    "# Buscar os indicex 1 e 5 (voce pode criar uma lista de indices para ser retornado)\n",
    "s[[1, 5]]"
   ]
  },
  {
   "cell_type": "code",
   "execution_count": 129,
   "id": "2796af68",
   "metadata": {},
   "outputs": [
    {
     "data": {
      "text/plain": [
       "a    1\n",
       "b    2\n",
       "c    3\n",
       "dtype: int64"
      ]
     },
     "execution_count": 129,
     "metadata": {},
     "output_type": "execute_result"
    }
   ],
   "source": [
    "# Criando Series com dicionario\n",
    "dicio = {'a': 1, 'b': 2, 'c': 3}\n",
    "s = pd.Series(dicio)\n",
    "s"
   ]
  },
  {
   "cell_type": "code",
   "execution_count": 130,
   "id": "4c8ae451",
   "metadata": {},
   "outputs": [
    {
     "data": {
      "text/plain": [
       "(1, 1)"
      ]
     },
     "execution_count": 130,
     "metadata": {},
     "output_type": "execute_result"
    }
   ],
   "source": [
    "# Retornando index por sua string(valor)\n",
    "s['a'], s[0]"
   ]
  },
  {
   "cell_type": "code",
   "execution_count": 133,
   "id": "0eea46f7",
   "metadata": {},
   "outputs": [
    {
     "data": {
      "text/plain": [
       "1"
      ]
     },
     "execution_count": 133,
     "metadata": {},
     "output_type": "execute_result"
    }
   ],
   "source": [
    "# Obtenha o valor de linha \n",
    "s.iat[0]"
   ]
  },
  {
   "cell_type": "code",
   "execution_count": 134,
   "id": "c95e8d8b",
   "metadata": {},
   "outputs": [
    {
     "data": {
      "text/plain": [
       "1"
      ]
     },
     "execution_count": 134,
     "metadata": {},
     "output_type": "execute_result"
    }
   ],
   "source": [
    "# Obtenha valor dentro de uma série\n",
    "s.iloc[0]"
   ]
  }
 ],
 "metadata": {
  "kernelspec": {
   "display_name": "Python 3",
   "language": "python",
   "name": "python3"
  },
  "language_info": {
   "codemirror_mode": {
    "name": "ipython",
    "version": 3
   },
   "file_extension": ".py",
   "mimetype": "text/x-python",
   "name": "python",
   "nbconvert_exporter": "python",
   "pygments_lexer": "ipython3",
   "version": "3.8.0"
  }
 },
 "nbformat": 4,
 "nbformat_minor": 5
}
