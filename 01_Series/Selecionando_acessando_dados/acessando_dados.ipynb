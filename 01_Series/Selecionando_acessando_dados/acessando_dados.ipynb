{
 "cells": [
  {
   "cell_type": "code",
   "execution_count": 38,
   "id": "fdb5660d",
   "metadata": {},
   "outputs": [],
   "source": [
    "import pandas as pd\n",
    "import numpy as np\n",
    "import string"
   ]
  },
  {
   "cell_type": "markdown",
   "id": "0119c472",
   "metadata": {},
   "source": [
    "# Acessando dados do Series"
   ]
  },
  {
   "cell_type": "code",
   "execution_count": 66,
   "id": "e5f76de6",
   "metadata": {
    "scrolled": true
   },
   "outputs": [
    {
     "data": {
      "text/plain": [
       "0    a\n",
       "1    b\n",
       "2    c\n",
       "3    d\n",
       "4    e\n",
       "5    f\n",
       "6    g\n",
       "dtype: object"
      ]
     },
     "execution_count": 66,
     "metadata": {},
     "output_type": "execute_result"
    }
   ],
   "source": [
    "# obtendo lista com o alfabeto\n",
    "letras = ['a', 'b', 'c', 'd', 'e', 'f', 'g']\n",
    "\n",
    "s = pd.Series(letras)\n",
    "s"
   ]
  },
  {
   "cell_type": "code",
   "execution_count": 67,
   "id": "e679e057",
   "metadata": {},
   "outputs": [
    {
     "data": {
      "text/plain": [
       "'a'"
      ]
     },
     "execution_count": 67,
     "metadata": {},
     "output_type": "execute_result"
    }
   ],
   "source": [
    "# Recuperando primeiro elemento\n",
    "s[0]"
   ]
  },
  {
   "cell_type": "code",
   "execution_count": 79,
   "id": "68075a2e",
   "metadata": {},
   "outputs": [
    {
     "data": {
      "text/plain": [
       "0    a\n",
       "1    b\n",
       "2    c\n",
       "dtype: object"
      ]
     },
     "execution_count": 79,
     "metadata": {},
     "output_type": "execute_result"
    }
   ],
   "source": [
    "# Exibindo os tres primeiros (do 0 até 3, por conta da expressão :3 )\n",
    "s[:3]"
   ]
  },
  {
   "cell_type": "code",
   "execution_count": 80,
   "id": "e627c458",
   "metadata": {},
   "outputs": [
    {
     "data": {
      "text/plain": [
       "3    d\n",
       "4    e\n",
       "5    f\n",
       "6    g\n",
       "dtype: object"
      ]
     },
     "execution_count": 80,
     "metadata": {},
     "output_type": "execute_result"
    }
   ],
   "source": [
    "# Recupera os dados apartir do terceiro index\n",
    "s[3:]"
   ]
  },
  {
   "cell_type": "code",
   "execution_count": 78,
   "id": "929a7865",
   "metadata": {},
   "outputs": [
    {
     "data": {
      "text/plain": [
       "4    e\n",
       "5    f\n",
       "6    g\n",
       "dtype: object"
      ]
     },
     "execution_count": 78,
     "metadata": {},
     "output_type": "execute_result"
    }
   ],
   "source": [
    "# Exibindo os tres ultimos(Contagem reversa por conta do - )\n",
    "s[-3:]"
   ]
  },
  {
   "cell_type": "code",
   "execution_count": 87,
   "id": "efb91e0f",
   "metadata": {},
   "outputs": [
    {
     "data": {
      "text/plain": [
       "3    d\n",
       "4    e\n",
       "dtype: object"
      ]
     },
     "execution_count": 87,
     "metadata": {},
     "output_type": "execute_result"
    }
   ],
   "source": [
    "# Cortando Serie do indice 3 ao 5(-1) \n",
    "s[3:5]"
   ]
  },
  {
   "cell_type": "code",
   "execution_count": 88,
   "id": "3040af08",
   "metadata": {},
   "outputs": [
    {
     "data": {
      "text/plain": [
       "1    b\n",
       "5    f\n",
       "dtype: object"
      ]
     },
     "execution_count": 88,
     "metadata": {},
     "output_type": "execute_result"
    }
   ],
   "source": [
    "# Buscar os indicex 1 e 5 (voce pode criar uma lista de indices para ser retornado)\n",
    "s[[1, 5]]"
   ]
  },
  {
   "cell_type": "code",
   "execution_count": 61,
   "id": "563c18e8",
   "metadata": {
    "scrolled": true
   },
   "outputs": [
    {
     "data": {
      "text/plain": [
       "a     0\n",
       "b     1\n",
       "c     2\n",
       "d     3\n",
       "e     4\n",
       "f     5\n",
       "g     6\n",
       "h     7\n",
       "i     8\n",
       "j     9\n",
       "k    10\n",
       "l    11\n",
       "m    12\n",
       "n    13\n",
       "o    14\n",
       "p    15\n",
       "q    16\n",
       "r    17\n",
       "s    18\n",
       "t    19\n",
       "u    20\n",
       "v    21\n",
       "w    22\n",
       "x    23\n",
       "y    24\n",
       "z    25\n",
       "dtype: int64"
      ]
     },
     "execution_count": 61,
     "metadata": {},
     "output_type": "execute_result"
    }
   ],
   "source": [
    "# Criando os dados (Dicionario com chave e valor utilizando o alfabeto como referencia)\n",
    "s = pd.Series({name: idx for idx, name in enumerate((string.ascii_lowercase))})\n",
    "s"
   ]
  }
 ],
 "metadata": {
  "kernelspec": {
   "display_name": "Python 3",
   "language": "python",
   "name": "python3"
  },
  "language_info": {
   "codemirror_mode": {
    "name": "ipython",
    "version": 3
   },
   "file_extension": ".py",
   "mimetype": "text/x-python",
   "name": "python",
   "nbconvert_exporter": "python",
   "pygments_lexer": "ipython3",
   "version": "3.8.0"
  }
 },
 "nbformat": 4,
 "nbformat_minor": 5
}
