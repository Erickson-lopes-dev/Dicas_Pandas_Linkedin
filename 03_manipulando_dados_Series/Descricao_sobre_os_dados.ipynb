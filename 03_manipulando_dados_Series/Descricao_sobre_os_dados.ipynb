{
 "cells": [
  {
   "cell_type": "code",
   "execution_count": 45,
   "id": "c436f6f6",
   "metadata": {},
   "outputs": [],
   "source": [
    "import pandas as pd\n",
    "import numpy as np"
   ]
  },
  {
   "cell_type": "markdown",
   "id": "75ad338a",
   "metadata": {},
   "source": [
    "# Descrições sobre os dados"
   ]
  },
  {
   "cell_type": "code",
   "execution_count": 55,
   "id": "9a0e0443",
   "metadata": {},
   "outputs": [
    {
     "data": {
      "text/plain": [
       "0    0\n",
       "1    1\n",
       "2    2\n",
       "3    3\n",
       "4    4\n",
       "dtype: int64"
      ]
     },
     "execution_count": 55,
     "metadata": {},
     "output_type": "execute_result"
    }
   ],
   "source": [
    "# Criando Series\n",
    "nums = range(5)\n",
    "ser = pd.Series(nums)\n",
    "ser"
   ]
  },
  {
   "cell_type": "code",
   "execution_count": 56,
   "id": "e8e188cf",
   "metadata": {},
   "outputs": [
    {
     "data": {
      "text/plain": [
       "RangeIndex(start=0, stop=5, step=1)"
      ]
     },
     "execution_count": 56,
     "metadata": {},
     "output_type": "execute_result"
    }
   ],
   "source": [
    "# Exibe os index (como é estamos usando um range para criar ele exibe onde começa e termina a sequencia)\n",
    "ser.index"
   ]
  },
  {
   "cell_type": "code",
   "execution_count": 19,
   "id": "89aeb207",
   "metadata": {},
   "outputs": [
    {
     "data": {
      "text/plain": [
       "dtype('int64')"
      ]
     },
     "execution_count": 19,
     "metadata": {},
     "output_type": "execute_result"
    }
   ],
   "source": [
    "# Exibir tipos de dados\n",
    "ser.dtype"
   ]
  },
  {
   "cell_type": "code",
   "execution_count": 22,
   "id": "23d5253d",
   "metadata": {},
   "outputs": [
    {
     "data": {
      "text/plain": [
       "0    0.0\n",
       "1    1.0\n",
       "2    2.0\n",
       "3    3.0\n",
       "4    4.0\n",
       "dtype: float64"
      ]
     },
     "execution_count": 22,
     "metadata": {},
     "output_type": "execute_result"
    }
   ],
   "source": [
    "# modificando o tipo de dado de 'int64' para 'float64'\n",
    "ser = pd.Series(nums, dtype='float')\n",
    "ser"
   ]
  },
  {
   "cell_type": "code",
   "execution_count": 24,
   "id": "cad75668",
   "metadata": {},
   "outputs": [
    {
     "data": {
      "text/plain": [
       "10.0"
      ]
     },
     "execution_count": 24,
     "metadata": {},
     "output_type": "execute_result"
    }
   ],
   "source": [
    "# Saber a soma total\n",
    "ser.sum()"
   ]
  },
  {
   "cell_type": "code",
   "execution_count": 26,
   "id": "6dfd5f56",
   "metadata": {},
   "outputs": [
    {
     "data": {
      "text/plain": [
       "4.0"
      ]
     },
     "execution_count": 26,
     "metadata": {},
     "output_type": "execute_result"
    }
   ],
   "source": [
    "# Maior Valor \n",
    "ser.max()"
   ]
  },
  {
   "cell_type": "code",
   "execution_count": 27,
   "id": "decb5302",
   "metadata": {},
   "outputs": [
    {
     "data": {
      "text/plain": [
       "0.0"
      ]
     },
     "execution_count": 27,
     "metadata": {},
     "output_type": "execute_result"
    }
   ],
   "source": [
    "# Menor Valor\n",
    "ser.min()"
   ]
  },
  {
   "cell_type": "code",
   "execution_count": 35,
   "id": "2d300a94",
   "metadata": {},
   "outputs": [
    {
     "data": {
      "text/plain": [
       "2.0"
      ]
     },
     "execution_count": 35,
     "metadata": {},
     "output_type": "execute_result"
    }
   ],
   "source": [
    "# Média dos valores\n",
    "ser.mean()"
   ]
  },
  {
   "cell_type": "code",
   "execution_count": 40,
   "id": "760cbaf5",
   "metadata": {},
   "outputs": [
    {
     "data": {
      "text/plain": [
       "mean       2.0\n",
       "median     2.0\n",
       "sum       10.0\n",
       "count      5.0\n",
       "min        0.0\n",
       "max        4.0\n",
       "dtype: float64"
      ]
     },
     "execution_count": 40,
     "metadata": {},
     "output_type": "execute_result"
    }
   ],
   "source": [
    "# Em caso seja necessário aplicar múltiplas funções de agregação podemos passar uma lista com todas elas para a função agg\n",
    "ser.agg(['mean', 'median', 'sum', 'count', 'min', 'max'])"
   ]
  },
  {
   "cell_type": "code",
   "execution_count": 33,
   "id": "22cccf00",
   "metadata": {},
   "outputs": [
    {
     "data": {
      "text/plain": [
       "4    4.0\n",
       "3    3.0\n",
       "dtype: float64"
      ]
     },
     "execution_count": 33,
     "metadata": {},
     "output_type": "execute_result"
    }
   ],
   "source": [
    "# retorna n maiores valores da Series\n",
    "ser.nlargest(n=2)"
   ]
  },
  {
   "cell_type": "code",
   "execution_count": 41,
   "id": "a04a6120",
   "metadata": {},
   "outputs": [
    {
     "data": {
      "text/plain": [
       "0    0.0\n",
       "1    1.0\n",
       "dtype: float64"
      ]
     },
     "execution_count": 41,
     "metadata": {},
     "output_type": "execute_result"
    }
   ],
   "source": [
    "# retorna n menores valores da Series\n",
    "ser.nsmallest(n=2)"
   ]
  },
  {
   "cell_type": "code",
   "execution_count": 44,
   "id": "c5863d41",
   "metadata": {},
   "outputs": [
    {
     "data": {
      "text/plain": [
       "5"
      ]
     },
     "execution_count": 44,
     "metadata": {},
     "output_type": "execute_result"
    }
   ],
   "source": [
    "# Exibir Quantidade de linhas\n",
    "ser.count()"
   ]
  },
  {
   "cell_type": "code",
   "execution_count": 63,
   "id": "6453db12",
   "metadata": {},
   "outputs": [
    {
     "data": {
      "text/plain": [
       "0    1.0\n",
       "1    2.0\n",
       "2    NaN\n",
       "3    1.5\n",
       "4    NaN\n",
       "5    1.0\n",
       "6    2.0\n",
       "7    1.0\n",
       "dtype: float64"
      ]
     },
     "execution_count": 63,
     "metadata": {},
     "output_type": "execute_result"
    }
   ],
   "source": [
    "# Gerando Series com dados nulos\n",
    "ser = pd.Series([1, 2, np.nan, 1.5, np.nan, 1, 2, 1])\n",
    "ser"
   ]
  },
  {
   "cell_type": "code",
   "execution_count": 64,
   "id": "0d687baf",
   "metadata": {},
   "outputs": [
    {
     "data": {
      "text/plain": [
       "2"
      ]
     },
     "execution_count": 64,
     "metadata": {},
     "output_type": "execute_result"
    }
   ],
   "source": [
    "# Conta a quantidade de itens nulos\n",
    "ser.isna().sum()"
   ]
  },
  {
   "cell_type": "code",
   "execution_count": 65,
   "id": "3182e130",
   "metadata": {},
   "outputs": [
    {
     "data": {
      "text/plain": [
       "1.0    3\n",
       "2.0    2\n",
       "1.5    1\n",
       "dtype: int64"
      ]
     },
     "execution_count": 65,
     "metadata": {},
     "output_type": "execute_result"
    }
   ],
   "source": [
    "# Retorna o número de ocorrências de cada valor no array Series\n",
    "ser.value_counts()"
   ]
  },
  {
   "cell_type": "code",
   "execution_count": 66,
   "id": "9a103fc4",
   "metadata": {},
   "outputs": [
    {
     "data": {
      "text/plain": [
       "count    6.000000\n",
       "mean     1.416667\n",
       "std      0.491596\n",
       "min      1.000000\n",
       "25%      1.000000\n",
       "50%      1.250000\n",
       "75%      1.875000\n",
       "max      2.000000\n",
       "dtype: float64"
      ]
     },
     "execution_count": 66,
     "metadata": {},
     "output_type": "execute_result"
    }
   ],
   "source": [
    "# E finalmente o describe() (quatis)\n",
    "ser.describe()"
   ]
  }
 ],
 "metadata": {
  "kernelspec": {
   "display_name": "Python 3",
   "language": "python",
   "name": "python3"
  },
  "language_info": {
   "codemirror_mode": {
    "name": "ipython",
    "version": 3
   },
   "file_extension": ".py",
   "mimetype": "text/x-python",
   "name": "python",
   "nbconvert_exporter": "python",
   "pygments_lexer": "ipython3",
   "version": "3.8.0"
  }
 },
 "nbformat": 4,
 "nbformat_minor": 5
}
