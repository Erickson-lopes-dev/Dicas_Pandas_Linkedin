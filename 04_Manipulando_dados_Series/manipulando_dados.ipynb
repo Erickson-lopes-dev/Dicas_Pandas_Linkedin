{
 "cells": [
  {
   "cell_type": "code",
   "execution_count": 47,
   "id": "adfe16f4",
   "metadata": {},
   "outputs": [],
   "source": [
    "import pandas as pd\n",
    "import numpy as np"
   ]
  },
  {
   "cell_type": "markdown",
   "id": "f272cb9c",
   "metadata": {},
   "source": [
    "# Manipulando dados do Series"
   ]
  },
  {
   "cell_type": "code",
   "execution_count": 36,
   "id": "f6d895f9",
   "metadata": {},
   "outputs": [
    {
     "data": {
      "text/plain": [
       "a    1\n",
       "b    2\n",
       "c    3\n",
       "dtype: int64"
      ]
     },
     "execution_count": 36,
     "metadata": {},
     "output_type": "execute_result"
    }
   ],
   "source": [
    "# Gerando Series (Com dicionario)\n",
    "ser = pd.Series({'a':1 ,'b':2, 'c':3 })\n",
    "ser"
   ]
  },
  {
   "cell_type": "code",
   "execution_count": 37,
   "id": "0388f1bc",
   "metadata": {},
   "outputs": [
    {
     "data": {
      "text/plain": [
       "a    100\n",
       "b      2\n",
       "c    100\n",
       "dtype: int64"
      ]
     },
     "execution_count": 37,
     "metadata": {},
     "output_type": "execute_result"
    }
   ],
   "source": [
    "# Substituindo valores pelo index\n",
    "\n",
    "ser['a', 'c'] = 100\n",
    "ser"
   ]
  },
  {
   "cell_type": "code",
   "execution_count": 66,
   "id": "a470e39a",
   "metadata": {},
   "outputs": [
    {
     "data": {
      "text/plain": [
       "0    a\n",
       "1    b\n",
       "2    c\n",
       "dtype: object"
      ]
     },
     "execution_count": 66,
     "metadata": {},
     "output_type": "execute_result"
    }
   ],
   "source": [
    "# Gerando Series (Com lista)\n",
    "ser = pd.Series(['a', 'b', 'c'])\n",
    "ser"
   ]
  },
  {
   "cell_type": "code",
   "execution_count": 107,
   "id": "5c2d2845",
   "metadata": {},
   "outputs": [
    {
     "data": {
      "text/plain": [
       "0    num0\n",
       "1       5\n",
       "2    num1\n",
       "3      15\n",
       "4      20\n",
       "5      25\n",
       "dtype: object"
      ]
     },
     "execution_count": 107,
     "metadata": {},
     "output_type": "execute_result"
    }
   ],
   "source": [
    "ser[0, 2]= ['num0', 'num1']\n",
    "ser"
   ]
  },
  {
   "cell_type": "markdown",
   "id": "484e01da",
   "metadata": {},
   "source": [
    "## Condições"
   ]
  },
  {
   "cell_type": "code",
   "execution_count": 109,
   "id": "b4d45c58",
   "metadata": {},
   "outputs": [
    {
     "data": {
      "text/plain": [
       "0     0\n",
       "1     5\n",
       "2    10\n",
       "3    15\n",
       "4    20\n",
       "5    25\n",
       "dtype: int32"
      ]
     },
     "execution_count": 109,
     "metadata": {},
     "output_type": "execute_result"
    }
   ],
   "source": [
    "# Gerando dados\n",
    "ser = pd.Series(np.arange(0, 30, 5))\n",
    "ser"
   ]
  },
  {
   "cell_type": "code",
   "execution_count": 84,
   "id": "232b5a34",
   "metadata": {},
   "outputs": [
    {
     "data": {
      "text/plain": [
       "3    15\n",
       "4    20\n",
       "5    25\n",
       "dtype: int32"
      ]
     },
     "execution_count": 84,
     "metadata": {},
     "output_type": "execute_result"
    }
   ],
   "source": [
    "# condição  (exbir valores maiores que 10)\n",
    "ser[ser > 10]"
   ]
  },
  {
   "cell_type": "code",
   "execution_count": 85,
   "id": "d4e714f9",
   "metadata": {},
   "outputs": [
    {
     "data": {
      "text/plain": [
       "60"
      ]
     },
     "execution_count": 85,
     "metadata": {},
     "output_type": "execute_result"
    }
   ],
   "source": [
    "# Soma dos valores\n",
    "ser[ser > 10].sum()"
   ]
  },
  {
   "cell_type": "code",
   "execution_count": 80,
   "id": "7b645ee2",
   "metadata": {},
   "outputs": [
    {
     "data": {
      "text/plain": [
       "0    False\n",
       "1    False\n",
       "2    False\n",
       "3     True\n",
       "4     True\n",
       "5     True\n",
       "dtype: bool"
      ]
     },
     "execution_count": 80,
     "metadata": {},
     "output_type": "execute_result"
    }
   ],
   "source": [
    "# condição que Retorna valores boleanos entre True e False\n",
    "ope = ser > 10\n",
    "ope"
   ]
  },
  {
   "cell_type": "code",
   "execution_count": 86,
   "id": "6db00d69",
   "metadata": {},
   "outputs": [
    {
     "data": {
      "text/plain": [
       "3"
      ]
     },
     "execution_count": 86,
     "metadata": {},
     "output_type": "execute_result"
    }
   ],
   "source": [
    "# soma para obter a quantidade\n",
    "ope.sum()"
   ]
  },
  {
   "cell_type": "code",
   "execution_count": 106,
   "id": "3957fac3",
   "metadata": {},
   "outputs": [
    {
     "data": {
      "text/plain": [
       "3    15\n",
       "4    20\n",
       "dtype: int32"
      ]
     },
     "execution_count": 106,
     "metadata": {},
     "output_type": "execute_result"
    }
   ],
   "source": [
    "# multiplas condições (maior que 10 e menor que 25)\n",
    "ser[(ser>10) & (ser<25)]"
   ]
  },
  {
   "cell_type": "markdown",
   "id": "9d1b0705",
   "metadata": {},
   "source": [
    "## Operações aritméticas em Series"
   ]
  },
  {
   "cell_type": "code",
   "execution_count": 120,
   "id": "c979ac3f",
   "metadata": {},
   "outputs": [
    {
     "data": {
      "text/plain": [
       "0     0\n",
       "1    10\n",
       "2    20\n",
       "3    30\n",
       "4    40\n",
       "5    50\n",
       "dtype: int32"
      ]
     },
     "execution_count": 120,
     "metadata": {},
     "output_type": "execute_result"
    }
   ],
   "source": [
    "# Multiplicando todos os números da Series\n",
    "ser * 2"
   ]
  },
  {
   "cell_type": "code",
   "execution_count": 122,
   "id": "4588bb18",
   "metadata": {},
   "outputs": [
    {
     "data": {
      "text/plain": [
       "0    300\n",
       "1    305\n",
       "2    310\n",
       "3    315\n",
       "4    320\n",
       "5    325\n",
       "dtype: int32"
      ]
     },
     "execution_count": 122,
     "metadata": {},
     "output_type": "execute_result"
    }
   ],
   "source": [
    "# Somando\n",
    "ser + 300"
   ]
  },
  {
   "cell_type": "code",
   "execution_count": 131,
   "id": "0ad3606c",
   "metadata": {},
   "outputs": [
    {
     "data": {
      "text/plain": [
       "0     5.0\n",
       "1     7.0\n",
       "2     9.0\n",
       "3    11.0\n",
       "4     NaN\n",
       "dtype: float64"
      ]
     },
     "execution_count": 131,
     "metadata": {},
     "output_type": "execute_result"
    }
   ],
   "source": [
    "# gerando Series\n",
    "s1 = pd.Series([1, 2, 3, 4, 7])\n",
    "s2 = pd.Series([4, 5, 6, 7])\n",
    "\n",
    "# Somando Series (podemos aplicar a todos os operadores) (se não existir os dois valores a linha vira nula)\n",
    "s1 + s2"
   ]
  }
 ],
 "metadata": {
  "kernelspec": {
   "display_name": "Python 3",
   "language": "python",
   "name": "python3"
  },
  "language_info": {
   "codemirror_mode": {
    "name": "ipython",
    "version": 3
   },
   "file_extension": ".py",
   "mimetype": "text/x-python",
   "name": "python",
   "nbconvert_exporter": "python",
   "pygments_lexer": "ipython3",
   "version": "3.8.0"
  }
 },
 "nbformat": 4,
 "nbformat_minor": 5
}
