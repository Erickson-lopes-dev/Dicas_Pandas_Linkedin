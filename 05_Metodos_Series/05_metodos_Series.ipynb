{
 "cells": [
  {
   "cell_type": "code",
   "execution_count": 2,
   "id": "c325bf65",
   "metadata": {},
   "outputs": [],
   "source": [
    "import pandas as pd\n",
    "import numpy as np"
   ]
  },
  {
   "cell_type": "markdown",
   "id": "d2e652a3",
   "metadata": {},
   "source": [
    "# Series, Métodos e atributos"
   ]
  },
  {
   "cell_type": "code",
   "execution_count": null,
   "id": "75c2b491",
   "metadata": {},
   "outputs": [],
   "source": [
    "# Obtendo todos os métodos que pode ser aplicado no Series\n",
    "dir(pd.Series([1, 2, 3]))"
   ]
  },
  {
   "cell_type": "code",
   "execution_count": 6,
   "id": "9fe8a6d7",
   "metadata": {},
   "outputs": [
    {
     "data": {
      "text/plain": [
       "0    1\n",
       "1    2\n",
       "2    3\n",
       "3    4\n",
       "4    5\n",
       "Name: nome_serie, dtype: int64"
      ]
     },
     "execution_count": 6,
     "metadata": {},
     "output_type": "execute_result"
    }
   ],
   "source": [
    "# Atribuindo nome ao Series\n",
    "ser = pd.Series([1, 2, 3, 4, 5], name='nome_serie')\n",
    "ser"
   ]
  },
  {
   "cell_type": "code",
   "execution_count": 7,
   "id": "6a985bab",
   "metadata": {},
   "outputs": [
    {
     "data": {
      "text/plain": [
       "'nome_serie'"
      ]
     },
     "execution_count": 7,
     "metadata": {},
     "output_type": "execute_result"
    }
   ],
   "source": [
    "# Exibir o nome\n",
    "ser.name"
   ]
  },
  {
   "cell_type": "code",
   "execution_count": 24,
   "id": "a3ea9ee2",
   "metadata": {},
   "outputs": [
    {
     "data": {
      "text/plain": [
       "array([1, 2, 3, 4, 5], dtype=int64)"
      ]
     },
     "execution_count": 24,
     "metadata": {},
     "output_type": "execute_result"
    }
   ],
   "source": [
    "# Exibir os valores\n",
    "ser.values"
   ]
  },
  {
   "cell_type": "code",
   "execution_count": 25,
   "id": "c017f7d7",
   "metadata": {},
   "outputs": [
    {
     "data": {
      "text/plain": [
       "array([1, 2, 3, 4, 5], dtype=int64)"
      ]
     },
     "execution_count": 25,
     "metadata": {},
     "output_type": "execute_result"
    }
   ],
   "source": [
    "# Outra maneira de receber os valores(Um ndarray NumPy que representa os valores nesta série ou índice)\n",
    "ser.to_numpy()"
   ]
  },
  {
   "cell_type": "code",
   "execution_count": 22,
   "id": "e4a43de6",
   "metadata": {},
   "outputs": [
    {
     "data": {
      "text/plain": [
       "Index(['a', 'b', 'c', 'd', 'e'], dtype='object')"
      ]
     },
     "execution_count": 22,
     "metadata": {},
     "output_type": "execute_result"
    }
   ],
   "source": [
    "# Exibir os indices\n",
    "ser.index"
   ]
  },
  {
   "cell_type": "code",
   "execution_count": 23,
   "id": "469144d4",
   "metadata": {},
   "outputs": [
    {
     "data": {
      "text/plain": [
       "['a', 'b', 'c', 'd', 'e']"
      ]
     },
     "execution_count": 23,
     "metadata": {},
     "output_type": "execute_result"
    }
   ],
   "source": [
    "# Transformar indices em uma lista\n",
    "ser.index.to_list()"
   ]
  },
  {
   "cell_type": "code",
   "execution_count": 57,
   "id": "1dc2d193",
   "metadata": {},
   "outputs": [
    {
     "data": {
      "text/plain": [
       "a    1\n",
       "b    2\n",
       "c    3\n",
       "d    4\n",
       "e    5\n",
       "Name: nome_serie, dtype: int64"
      ]
     },
     "execution_count": 57,
     "metadata": {},
     "output_type": "execute_result"
    }
   ],
   "source": [
    "# Substituir indices\n",
    "ser.index = ['a', 'b', 'c', 'd', 'e']\n",
    "ser"
   ]
  },
  {
   "cell_type": "code",
   "execution_count": 65,
   "id": "52c11954",
   "metadata": {},
   "outputs": [
    {
     "data": {
      "text/plain": [
       "1    1\n",
       "2    2\n",
       "3    3\n",
       "4    4\n",
       "5    5\n",
       "Name: nome_serie, dtype: int64"
      ]
     },
     "execution_count": 65,
     "metadata": {},
     "output_type": "execute_result"
    }
   ],
   "source": [
    "# Renomeando indices (O inplace=True serve para que ele altere Serie)\n",
    "ser.rename({'a': 1, 'b': 2, 'c': 3, 'd': 4, 'e': 5}, inplace=True)\n",
    "ser"
   ]
  },
  {
   "cell_type": "code",
   "execution_count": 66,
   "id": "c4a7d18d",
   "metadata": {},
   "outputs": [
    {
     "data": {
      "text/plain": [
       "1"
      ]
     },
     "execution_count": 66,
     "metadata": {},
     "output_type": "execute_result"
    }
   ],
   "source": [
    "# Indexação puramente baseada em localização inteira para seleção por posição.\n",
    "ser.iloc[0]"
   ]
  },
  {
   "cell_type": "code",
   "execution_count": 67,
   "id": "753f8792",
   "metadata": {},
   "outputs": [
    {
     "data": {
      "text/plain": [
       "array([1, 3], dtype=int64)"
      ]
     },
     "execution_count": 67,
     "metadata": {},
     "output_type": "execute_result"
    }
   ],
   "source": [
    "# Pode ser usado mais de um index e retornar utilizando o .to_numpy() para obter um array com o resultado\n",
    "ser.iloc[[0, 2]].to_numpy()"
   ]
  },
  {
   "cell_type": "code",
   "execution_count": 10,
   "id": "fd1de658",
   "metadata": {
    "scrolled": false
   },
   "outputs": [
    {
     "data": {
      "text/plain": [
       "0       Goiaba\n",
       "1          Uva\n",
       "2       Goiaba\n",
       "3       Goiaba\n",
       "4       Goiaba\n",
       "        ...   \n",
       "195    Laranja\n",
       "196        nan\n",
       "197     Banana\n",
       "198    Laranja\n",
       "199     Banana\n",
       "Length: 200, dtype: object"
      ]
     },
     "execution_count": 10,
     "metadata": {},
     "output_type": "execute_result"
    }
   ],
   "source": [
    "# Gerar dados\n",
    "frutas = ['Banana', 'Maça', 'Uva', 'Laranja', 'Goiaba', np.nan]\n",
    "ser = pd.Series(np.random.choice(frutas) for item in range(200))\n",
    "ser"
   ]
  },
  {
   "cell_type": "code",
   "execution_count": 11,
   "id": "972727f2",
   "metadata": {},
   "outputs": [
    {
     "data": {
      "text/plain": [
       "200"
      ]
     },
     "execution_count": 11,
     "metadata": {},
     "output_type": "execute_result"
    }
   ],
   "source": [
    "# Exibir a quantidade de itens dentro do Series\n",
    "ser.count()"
   ]
  },
  {
   "cell_type": "code",
   "execution_count": 13,
   "id": "50245b37",
   "metadata": {},
   "outputs": [
    {
     "data": {
      "text/plain": [
       "Goiaba     39\n",
       "Maça       34\n",
       "Uva        34\n",
       "Laranja    34\n",
       "Banana     31\n",
       "nan        28\n",
       "dtype: int64"
      ]
     },
     "execution_count": 13,
     "metadata": {},
     "output_type": "execute_result"
    }
   ],
   "source": [
    "# Retorne uma série contendo contagens de valores únicos.\n",
    "ser.value_counts()"
   ]
  },
  {
   "cell_type": "code",
   "execution_count": 19,
   "id": "1dd190d1",
   "metadata": {},
   "outputs": [
    {
     "data": {
      "text/plain": [
       "array(['Goiaba', 'Uva', 'Maça', 'nan', 'Banana', 'Laranja'], dtype=object)"
      ]
     },
     "execution_count": 19,
     "metadata": {},
     "output_type": "execute_result"
    }
   ],
   "source": [
    "# Exibe os valores unicos\n",
    "ser.unique()"
   ]
  },
  {
   "cell_type": "code",
   "execution_count": 22,
   "id": "91aa4e2f",
   "metadata": {},
   "outputs": [
    {
     "data": {
      "text/plain": [
       "6"
      ]
     },
     "execution_count": 22,
     "metadata": {},
     "output_type": "execute_result"
    }
   ],
   "source": [
    "# Exibe em números a quantidade de valores unicos\n",
    "ser.nunique()"
   ]
  }
 ],
 "metadata": {
  "kernelspec": {
   "display_name": "Python 3",
   "language": "python",
   "name": "python3"
  },
  "language_info": {
   "codemirror_mode": {
    "name": "ipython",
    "version": 3
   },
   "file_extension": ".py",
   "mimetype": "text/x-python",
   "name": "python",
   "nbconvert_exporter": "python",
   "pygments_lexer": "ipython3",
   "version": "3.8.0"
  }
 },
 "nbformat": 4,
 "nbformat_minor": 5
}
